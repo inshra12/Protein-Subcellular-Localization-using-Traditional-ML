{
  "nbformat": 4,
  "nbformat_minor": 0,
  "metadata": {
    "colab": {
      "provenance": [],
      "toc_visible": true,
      "authorship_tag": "ABX9TyN1X+7C6QNzXwN/ZGNmyJTc",
      "include_colab_link": true
    },
    "kernelspec": {
      "name": "python3",
      "display_name": "Python 3"
    },
    "language_info": {
      "name": "python"
    }
  },
  "cells": [
    {
      "cell_type": "markdown",
      "metadata": {
        "id": "view-in-github",
        "colab_type": "text"
      },
      "source": [
        "<a href=\"https://colab.research.google.com/github/inshra12/Protein-Subcellular-Localization-using-Traditional-ML/blob/main/subcelluar_localization.ipynb\" target=\"_parent\"><img src=\"https://colab.research.google.com/assets/colab-badge.svg\" alt=\"Open In Colab\"/></a>"
      ]
    },
    {
      "cell_type": "code",
      "source": [
        "!pip install datasets"
      ],
      "metadata": {
        "id": "QxAm4hCtjpVc",
        "outputId": "8de74f61-fd15-412c-ed68-340afe955832",
        "colab": {
          "base_uri": "https://localhost:8080/"
        }
      },
      "execution_count": 79,
      "outputs": [
        {
          "output_type": "stream",
          "name": "stdout",
          "text": [
            "Requirement already satisfied: datasets in /usr/local/lib/python3.11/dist-packages (4.0.0)\n",
            "Requirement already satisfied: filelock in /usr/local/lib/python3.11/dist-packages (from datasets) (3.18.0)\n",
            "Requirement already satisfied: numpy>=1.17 in /usr/local/lib/python3.11/dist-packages (from datasets) (2.0.2)\n",
            "Requirement already satisfied: pyarrow>=15.0.0 in /usr/local/lib/python3.11/dist-packages (from datasets) (18.1.0)\n",
            "Requirement already satisfied: dill<0.3.9,>=0.3.0 in /usr/local/lib/python3.11/dist-packages (from datasets) (0.3.8)\n",
            "Requirement already satisfied: pandas in /usr/local/lib/python3.11/dist-packages (from datasets) (2.2.2)\n",
            "Requirement already satisfied: requests>=2.32.2 in /usr/local/lib/python3.11/dist-packages (from datasets) (2.32.3)\n",
            "Requirement already satisfied: tqdm>=4.66.3 in /usr/local/lib/python3.11/dist-packages (from datasets) (4.67.1)\n",
            "Requirement already satisfied: xxhash in /usr/local/lib/python3.11/dist-packages (from datasets) (3.5.0)\n",
            "Requirement already satisfied: multiprocess<0.70.17 in /usr/local/lib/python3.11/dist-packages (from datasets) (0.70.16)\n",
            "Requirement already satisfied: fsspec<=2025.3.0,>=2023.1.0 in /usr/local/lib/python3.11/dist-packages (from fsspec[http]<=2025.3.0,>=2023.1.0->datasets) (2025.3.0)\n",
            "Requirement already satisfied: huggingface-hub>=0.24.0 in /usr/local/lib/python3.11/dist-packages (from datasets) (0.34.3)\n",
            "Requirement already satisfied: packaging in /usr/local/lib/python3.11/dist-packages (from datasets) (25.0)\n",
            "Requirement already satisfied: pyyaml>=5.1 in /usr/local/lib/python3.11/dist-packages (from datasets) (6.0.2)\n",
            "Requirement already satisfied: aiohttp!=4.0.0a0,!=4.0.0a1 in /usr/local/lib/python3.11/dist-packages (from fsspec[http]<=2025.3.0,>=2023.1.0->datasets) (3.12.15)\n",
            "Requirement already satisfied: typing-extensions>=3.7.4.3 in /usr/local/lib/python3.11/dist-packages (from huggingface-hub>=0.24.0->datasets) (4.14.1)\n",
            "Requirement already satisfied: hf-xet<2.0.0,>=1.1.3 in /usr/local/lib/python3.11/dist-packages (from huggingface-hub>=0.24.0->datasets) (1.1.5)\n",
            "Requirement already satisfied: charset-normalizer<4,>=2 in /usr/local/lib/python3.11/dist-packages (from requests>=2.32.2->datasets) (3.4.2)\n",
            "Requirement already satisfied: idna<4,>=2.5 in /usr/local/lib/python3.11/dist-packages (from requests>=2.32.2->datasets) (3.10)\n",
            "Requirement already satisfied: urllib3<3,>=1.21.1 in /usr/local/lib/python3.11/dist-packages (from requests>=2.32.2->datasets) (2.5.0)\n",
            "Requirement already satisfied: certifi>=2017.4.17 in /usr/local/lib/python3.11/dist-packages (from requests>=2.32.2->datasets) (2025.7.14)\n",
            "Requirement already satisfied: python-dateutil>=2.8.2 in /usr/local/lib/python3.11/dist-packages (from pandas->datasets) (2.9.0.post0)\n",
            "Requirement already satisfied: pytz>=2020.1 in /usr/local/lib/python3.11/dist-packages (from pandas->datasets) (2025.2)\n",
            "Requirement already satisfied: tzdata>=2022.7 in /usr/local/lib/python3.11/dist-packages (from pandas->datasets) (2025.2)\n",
            "Requirement already satisfied: aiohappyeyeballs>=2.5.0 in /usr/local/lib/python3.11/dist-packages (from aiohttp!=4.0.0a0,!=4.0.0a1->fsspec[http]<=2025.3.0,>=2023.1.0->datasets) (2.6.1)\n",
            "Requirement already satisfied: aiosignal>=1.4.0 in /usr/local/lib/python3.11/dist-packages (from aiohttp!=4.0.0a0,!=4.0.0a1->fsspec[http]<=2025.3.0,>=2023.1.0->datasets) (1.4.0)\n",
            "Requirement already satisfied: attrs>=17.3.0 in /usr/local/lib/python3.11/dist-packages (from aiohttp!=4.0.0a0,!=4.0.0a1->fsspec[http]<=2025.3.0,>=2023.1.0->datasets) (25.3.0)\n",
            "Requirement already satisfied: frozenlist>=1.1.1 in /usr/local/lib/python3.11/dist-packages (from aiohttp!=4.0.0a0,!=4.0.0a1->fsspec[http]<=2025.3.0,>=2023.1.0->datasets) (1.7.0)\n",
            "Requirement already satisfied: multidict<7.0,>=4.5 in /usr/local/lib/python3.11/dist-packages (from aiohttp!=4.0.0a0,!=4.0.0a1->fsspec[http]<=2025.3.0,>=2023.1.0->datasets) (6.6.3)\n",
            "Requirement already satisfied: propcache>=0.2.0 in /usr/local/lib/python3.11/dist-packages (from aiohttp!=4.0.0a0,!=4.0.0a1->fsspec[http]<=2025.3.0,>=2023.1.0->datasets) (0.3.2)\n",
            "Requirement already satisfied: yarl<2.0,>=1.17.0 in /usr/local/lib/python3.11/dist-packages (from aiohttp!=4.0.0a0,!=4.0.0a1->fsspec[http]<=2025.3.0,>=2023.1.0->datasets) (1.20.1)\n",
            "Requirement already satisfied: six>=1.5 in /usr/local/lib/python3.11/dist-packages (from python-dateutil>=2.8.2->pandas->datasets) (1.17.0)\n"
          ]
        }
      ]
    },
    {
      "cell_type": "code",
      "source": [
        "# Step 1: Import required libraries\n",
        "from datasets import load_dataset\n",
        "import pandas as pd\n",
        "from collections import Counter\n",
        "from sklearn.model_selection import train_test_split\n",
        "from sklearn.svm import SVC\n",
        "from sklearn.linear_model import LogisticRegression\n",
        "from sklearn.ensemble import RandomForestClassifier\n",
        "from sklearn.tree import DecisionTreeClassifier\n",
        "from sklearn.naive_bayes import GaussianNB\n",
        "from sklearn.neighbors import KNeighborsClassifier\n",
        "from sklearn.metrics import classification_report, confusion_matrix, accuracy_score"
      ],
      "metadata": {
        "id": "4fIR1AgCkevV"
      },
      "execution_count": null,
      "outputs": []
    },
    {
      "cell_type": "code",
      "source": [
        "# Step 2: Load dataset from Hugging Face\n",
        "dataset = load_dataset(\"proteinea/deeploc\", split=\"train\")\n",
        "\n",
        "# Step 3: Convert to pandas DataFrame\n",
        "df = dataset.to_pandas()\n",
        "\n",
        "# Step 4: Define the 20 standard amino acids\n",
        "AMINO_ACIDS = 'ACDEFGHIKLMNPQRSTVWY'"
      ],
      "metadata": {
        "id": "gmYf1ocXlKSJ"
      },
      "execution_count": null,
      "outputs": []
    },
    {
      "cell_type": "code",
      "source": [
        "# Step 5: Function to calculate AAC (Amino Acid Composition)\n",
        "def calculate_aac(sequence):\n",
        "    sequence = sequence.upper()\n",
        "    length = len(sequence)\n",
        "    counts = Counter(sequence)\n",
        "    return [counts[aa] / length if aa in counts else 0 for aa in AMINO_ACIDS]\n",
        "\n",
        "# Step 6: Apply AAC to all sequences\n",
        "aac_features = df['input'].apply(calculate_aac)\n",
        "aac_df = pd.DataFrame(aac_features.tolist(), columns=[f\"AAC_{aa}\" for aa in AMINO_ACIDS])\n"
      ],
      "metadata": {
        "id": "47eTqLPmlMWF"
      },
      "execution_count": null,
      "outputs": []
    },
    {
      "cell_type": "code",
      "source": [
        "# Step 7: DPC Feature Extraction\n",
        "# Generate all 400 possible dipeptides\n",
        "dipeptides = [aa1 + aa2 for aa1 in AMINO_ACIDS for aa2 in AMINO_ACIDS]\n",
        "\n",
        "def calculate_dpc(sequence):\n",
        "    sequence = sequence.upper()\n",
        "    counts = Counter([sequence[i:i+2] for i in range(len(sequence) - 1)])\n",
        "    total = sum(counts.values())\n",
        "    return [counts[dp] / total if total > 0 else 0 for dp in dipeptides]\n",
        "\n",
        "# Step 8: Apply DPC to all sequences\n",
        "dpc_features = df[\"input\"].apply(calculate_dpc)\n",
        "dpc_df = pd.DataFrame(dpc_features.tolist(), columns=[f\"DPC_{dp}\" for dp in dipeptides])"
      ],
      "metadata": {
        "id": "NREQrLeDlPnb"
      },
      "execution_count": null,
      "outputs": []
    },
    {
      "cell_type": "code",
      "source": [
        "# Step 9: Combine AAC + DPC features\n",
        "combined_df = pd.concat([aac_df, dpc_df], axis=1)\n",
        "\n",
        "# Step 10: Add labels\n",
        "combined_df[\"label\"] = df[\"membrane\"]"
      ],
      "metadata": {
        "id": "VjcDyhOxlSz0"
      },
      "execution_count": null,
      "outputs": []
    },
    {
      "cell_type": "code",
      "source": [
        "# Step 11: Prepare data for ML\n",
        "X = combined_df.drop(\"label\", axis=1)\n",
        "y = combined_df[\"label\"]\n",
        "x_train, x_test, y_train, y_test = train_test_split(X, y, test_size=0.2, random_state=42)\n",
        "\n",
        "# Step 12: Define and evaluate models\n",
        "models = {\n",
        "    \"Logistic Regression\": LogisticRegression(max_iter=1000),\n",
        "    \"Random Forest\": RandomForestClassifier(random_state=31),\n",
        "    \"Decision Tree\": DecisionTreeClassifier(),\n",
        "    \"Naive Bayes\": GaussianNB(),\n",
        "    \"Support Vector Machine\": SVC(),\n",
        "    \"K-Nearest Neighbors\": KNeighborsClassifier()\n",
        "}"
      ],
      "metadata": {
        "id": "c_XJjHt4lWSe"
      },
      "execution_count": null,
      "outputs": []
    },
    {
      "cell_type": "code",
      "source": [
        "# Step 13: Train & evaluate each model\n",
        "for name, model in models.items():\n",
        "    model.fit(x_train, y_train)\n",
        "    y_pred = model.predict(x_test)\n",
        "    accuracy = accuracy_score(y_test, y_pred)\n",
        "    print(\"=\" * 50)\n",
        "    print(f\"{name} Accuracy: {accuracy:.2f}\")\n",
        "    print(\"Confusion Matrix:\\n\", confusion_matrix(y_test, y_pred))\n",
        "    print(\"Classification Report:\\n\", classification_report(y_test, y_pred))\n"
      ],
      "metadata": {
        "id": "kuH1hTVvjs-n",
        "outputId": "579c3b38-4efb-4c81-b4c1-29414710f290",
        "colab": {
          "base_uri": "https://localhost:8080/"
        }
      },
      "execution_count": 80,
      "outputs": [
        {
          "output_type": "stream",
          "name": "stdout",
          "text": [
            "==================================================\n",
            "Logistic Regression Accuracy: 0.56\n",
            "Confusion Matrix:\n",
            " [[126  67 124]\n",
            " [ 18 128 296]\n",
            " [ 21  57 488]]\n",
            "Classification Report:\n",
            "               precision    recall  f1-score   support\n",
            "\n",
            "           M       0.76      0.40      0.52       317\n",
            "           S       0.51      0.29      0.37       442\n",
            "           U       0.54      0.86      0.66       566\n",
            "\n",
            "    accuracy                           0.56      1325\n",
            "   macro avg       0.60      0.52      0.52      1325\n",
            "weighted avg       0.58      0.56      0.53      1325\n",
            "\n",
            "==================================================\n",
            "Random Forest Accuracy: 0.59\n",
            "Confusion Matrix:\n",
            " [[142  71 104]\n",
            " [ 19 193 230]\n",
            " [ 23  99 444]]\n",
            "Classification Report:\n",
            "               precision    recall  f1-score   support\n",
            "\n",
            "           M       0.77      0.45      0.57       317\n",
            "           S       0.53      0.44      0.48       442\n",
            "           U       0.57      0.78      0.66       566\n",
            "\n",
            "    accuracy                           0.59      1325\n",
            "   macro avg       0.62      0.56      0.57      1325\n",
            "weighted avg       0.61      0.59      0.58      1325\n",
            "\n",
            "==================================================\n",
            "Decision Tree Accuracy: 0.46\n",
            "Confusion Matrix:\n",
            " [[137  85  95]\n",
            " [ 84 189 169]\n",
            " [103 175 288]]\n",
            "Classification Report:\n",
            "               precision    recall  f1-score   support\n",
            "\n",
            "           M       0.42      0.43      0.43       317\n",
            "           S       0.42      0.43      0.42       442\n",
            "           U       0.52      0.51      0.52       566\n",
            "\n",
            "    accuracy                           0.46      1325\n",
            "   macro avg       0.46      0.46      0.46      1325\n",
            "weighted avg       0.46      0.46      0.46      1325\n",
            "\n",
            "==================================================\n",
            "Naive Bayes Accuracy: 0.53\n",
            "Confusion Matrix:\n",
            " [[206  39  72]\n",
            " [109 135 198]\n",
            " [106 102 358]]\n",
            "Classification Report:\n",
            "               precision    recall  f1-score   support\n",
            "\n",
            "           M       0.49      0.65      0.56       317\n",
            "           S       0.49      0.31      0.38       442\n",
            "           U       0.57      0.63      0.60       566\n",
            "\n",
            "    accuracy                           0.53      1325\n",
            "   macro avg       0.52      0.53      0.51      1325\n",
            "weighted avg       0.52      0.53      0.52      1325\n",
            "\n",
            "==================================================\n",
            "Support Vector Machine Accuracy: 0.59\n",
            "Confusion Matrix:\n",
            " [[141  60 116]\n",
            " [ 16 160 266]\n",
            " [ 18  69 479]]\n",
            "Classification Report:\n",
            "               precision    recall  f1-score   support\n",
            "\n",
            "           M       0.81      0.44      0.57       317\n",
            "           S       0.55      0.36      0.44       442\n",
            "           U       0.56      0.85      0.67       566\n",
            "\n",
            "    accuracy                           0.59      1325\n",
            "   macro avg       0.64      0.55      0.56      1325\n",
            "weighted avg       0.62      0.59      0.57      1325\n",
            "\n",
            "==================================================\n",
            "K-Nearest Neighbors Accuracy: 0.54\n",
            "Confusion Matrix:\n",
            " [[173  76  68]\n",
            " [ 63 202 177]\n",
            " [ 58 163 345]]\n",
            "Classification Report:\n",
            "               precision    recall  f1-score   support\n",
            "\n",
            "           M       0.59      0.55      0.57       317\n",
            "           S       0.46      0.46      0.46       442\n",
            "           U       0.58      0.61      0.60       566\n",
            "\n",
            "    accuracy                           0.54      1325\n",
            "   macro avg       0.54      0.54      0.54      1325\n",
            "weighted avg       0.54      0.54      0.54      1325\n",
            "\n"
          ]
        }
      ]
    },
    {
      "cell_type": "code",
      "source": [],
      "metadata": {
        "id": "Pr5kIUBKj1i5"
      },
      "execution_count": null,
      "outputs": []
    }
  ]
}